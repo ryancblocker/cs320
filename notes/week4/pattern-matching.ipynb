{
 "cells": [
  {
   "cell_type": "markdown",
   "metadata": {},
   "source": [
    "# Pattern Matching: Brute Force and Boyer Moore (2/5/24)\n",
    "\n",
    "## Brute Force Pattern Matching\n",
    "\n",
    "This algorithm compares the pattern P with the text T until\n",
    "    - match is found or...\n",
    "    - all placemements of the pattern have been tried\n",
    "\n",
    "Run time is O(nm)\n",
    "\n",
    "```python\n",
    "# Algorithm BruteForceMatch(T, P)\n",
    "    # Input text T of size n and pattern\n",
    "        # P of size m\n",
    "    # Output starting index of a\n",
    "        # substring of T equal to P or -1 if no such substring exists\n",
    "    # for i <- 0 to n - m\n",
    "        # { test shift i of the pattern }\n",
    "        # j <- 0\n",
    "        # while j < m ÙÙ T[i + j] = P[j]\n",
    "        # j <- j + 1\n",
    "        # if j = m\n",
    "            # return i {match at i}\n",
    "        # {mismatch – move to next i}\n",
    "    # return -1 {no match anywhere}\n",
    "```\n",
    "\n"
   ]
  },
  {
   "cell_type": "code",
   "execution_count": 1,
   "metadata": {},
   "outputs": [],
   "source": [
    "#brutish code\n",
    "\n",
    "def findpat(text,pat):\n",
    "    patlen = len(pat)\n",
    "    textlen = len(text)\n",
    "    for i in range(0,textlen-patlen):\n",
    "        if (text[i:i+patlen] == pat):\n",
    "            return(i)\n",
    "    return(-1)"
   ]
  },
  {
   "cell_type": "markdown",
   "metadata": {},
   "source": [
    "So why is this algorithm O(nm)?\n",
    "\n"
   ]
  }
 ],
 "metadata": {
  "kernelspec": {
   "display_name": "Python 3",
   "language": "python",
   "name": "python3"
  },
  "language_info": {
   "codemirror_mode": {
    "name": "ipython",
    "version": 3
   },
   "file_extension": ".py",
   "mimetype": "text/x-python",
   "name": "python",
   "nbconvert_exporter": "python",
   "pygments_lexer": "ipython3",
   "version": "3.9.6"
  }
 },
 "nbformat": 4,
 "nbformat_minor": 2
}
