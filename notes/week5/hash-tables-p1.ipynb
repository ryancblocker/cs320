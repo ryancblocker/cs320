{
 "cells": [
  {
   "cell_type": "markdown",
   "metadata": {},
   "source": [
    "# Hash Tables - Part 1\n",
    "\n",
    "## Hash Table Basics\n",
    "\n",
    "Hash functions are different than hash tables and **are often used for data lookup**\n",
    "\n",
    "Attributes: \n",
    "* A set of keys (K) and the size of the set is N\n",
    "* A subset of (*k*) of K and its size is I\n",
    "* A hash table of size m - where m is prime and m << N\n",
    "* A hash function h(k) that takes the modulus of k which is a subset of *k* by m\n",
    "* Define n as a number of keys in the table and the load factor a = n/m\n",
    "* To put k into our table, simple assign table[h(k)] = k\n",
    "\n",
    "## Dealing with Collision (Open Chaining)\n",
    "\n",
    "All the keys that hash h(k) is a list of keys. So instead of two elements colliding when they hash to the same value the solution is to simple implement a bucket at each index (python) list of keys\n",
    "\n",
    "This idea is called **open chaining**. "
   ]
  },
  {
   "cell_type": "code",
   "execution_count": 1,
   "metadata": {},
   "outputs": [],
   "source": [
    "# insert hash chaining\n",
    "\n",
    "# adds string to hash table, if string is not a duplicate\n",
    "def insert(str):\n",
    "    if (str is None):\n",
    "        return\n",
    "    str_hash = hash(str, HASHPRIME)\n",
    "    if (hash_table[str_hash] is None):\n",
    "        hash_table[str_hash] = [str]\n",
    "    else:\n",
    "        for i in hash_table[str_hash]:\n",
    "            if (i == str):\n",
    "                return # duplicate\n",
    "            hash_table[str_hash] = [str] + hash_table[str_hash]\n",
    "    \n",
    "    "
   ]
  },
  {
   "cell_type": "code",
   "execution_count": 2,
   "metadata": {},
   "outputs": [],
   "source": [
    "# find hash chaining\n",
    "\n",
    "# return whether str is in table\n",
    "def find(str):\n",
    "        if (str is None):\n",
    "            return False\n",
    "        bucket = hash_table[hash(str, HASHPRIME)]\n",
    "        if (bucket is not None):\n",
    "            for i in bucket:\n",
    "                if (i == str):\n",
    "                    return True\n",
    "        return False"
   ]
  },
  {
   "cell_type": "code",
   "execution_count": 3,
   "metadata": {},
   "outputs": [],
   "source": [
    "# delete hash chaining\n",
    "\n",
    "# delete\n",
    "# removes string from hash table, if string is present\n",
    "def delete(str):\n",
    "    if (str is None):\n",
    "        return\n",
    "    str_hash = hash(str, HASHPRIME)\n",
    "    bucket = hash_table[str_hash]\n",
    "    if (bucket is None):\n",
    "        return\n",
    "    b_len = len(hash_table[str_hash])\n",
    "    \n",
    "    for i in range(0, b_len):\n",
    "        if (bucket[i] == str):\n",
    "            hash_table[str_hash] = bucket[0:i] + bucket[i+1:b_len]\n",
    "        if (len(hash_table[str_hash]) == 0):\n",
    "            hash_table[str_hash] = None # clean up empty list case\n",
    "            return # found and deleted so return from within loop\n",
    "    return # get here only if str was not in table"
   ]
  },
  {
   "cell_type": "markdown",
   "metadata": {},
   "source": [
    "## What are the big oh costs of hash tables?\n",
    "\n",
    "The expected search time of a hash table is O(1)\n",
    "* This happens provides that m is close in size to n\n",
    "\n",
    "## How can we make this more optimized\n",
    "\n",
    "We can sort the list in each bucket thi smakes it so that if you mis-estimate n by a factor of 2 performance is still great.\n",
    "\n",
    "You can also use AVL trees to make this more sorted, but this requires more complex code"
   ]
  },
  {
   "cell_type": "code",
   "execution_count": 4,
   "metadata": {},
   "outputs": [],
   "source": [
    "# insert sorted code for hash table\n",
    "\n",
    "# insert\n",
    "# adds string to hash table, if string is not a duplicate\n",
    "def insert(str):\n",
    "    if (str is None):\n",
    "        return\n",
    "    str_hash = hash(str, HASHPRIME)\n",
    "    bucket = hash_table[str_hash]\n",
    "    if (bucket is None):\n",
    "        hash_table[str_hash] = [str]\n",
    "    else:\n",
    "        b_len = len(bucket)\n",
    "        \n",
    "    for i in range(0, b_len):\n",
    "        if (bucket[i] == str):\n",
    "            return # duplicate\n",
    "        if (bucket[i] > str):\n",
    "            hash_table[str_hash] = bucket[0:i] + [str] + bucket[i:b_len]\n",
    "            return\n",
    "    # only get here if all values in list are smaller than str\n",
    "    hash_table[str_hash] = bucket + [str]"
   ]
  },
  {
   "cell_type": "code",
   "execution_count": 5,
   "metadata": {},
   "outputs": [],
   "source": [
    "# find sorted code here hash table\n",
    "\n",
    "# return whether str is in table\n",
    "def find(str):\n",
    "    if (str is None):\n",
    "        return False\n",
    "    bucket = hash_table[hash(str, HASHPRIME)]\n",
    "    if (bucket is not None):\n",
    "        bucketlen = len(bucket)\n",
    "        i = 0\n",
    "        while ((i < bucketlen) and (bucket[i] < str)):\n",
    "            i = i+1\n",
    "        if ((i < bucketlen) and (bucket[i] == str)):\n",
    "            return True\n",
    "    return False"
   ]
  },
  {
   "cell_type": "code",
   "execution_count": 8,
   "metadata": {},
   "outputs": [],
   "source": [
    "# delete sorted code here hash table\n",
    "\n",
    "# removes string from hash table, if string is present\n",
    "def delete(str):\n",
    "    if (str is None):\n",
    "        return\n",
    "    str_hash = hash(str, HASHPRIME)\n",
    "    if (hash_table[str_hash] is None):\n",
    "        return\n",
    "    \n",
    "    bucket_len = len(hash_table[str_hash])\n",
    "    for i in range(0, bucket_len):\n",
    "        if (hash_table[str_hash][i] == str):\n",
    "            hash_table[str_hash] = hash_table[str_hash][0:i] + \\\n",
    "                hash_table[str_hash][i+1:bucket_len]\n",
    "            if (len(hash_table[str_hash]) == 0):\n",
    "                hash_table[str_hash] = None # clean up empty list case\n",
    "                return # found and deleted so return from within loop\n",
    "    return # get here only if str was not in table"
   ]
  }
 ],
 "metadata": {
  "kernelspec": {
   "display_name": "Python 3",
   "language": "python",
   "name": "python3"
  },
  "language_info": {
   "codemirror_mode": {
    "name": "ipython",
    "version": 3
   },
   "file_extension": ".py",
   "mimetype": "text/x-python",
   "name": "python",
   "nbconvert_exporter": "python",
   "pygments_lexer": "ipython3",
   "version": "3.9.6"
  }
 },
 "nbformat": 4,
 "nbformat_minor": 2
}
