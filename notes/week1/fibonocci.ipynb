{
 "cells": [
  {
   "cell_type": "markdown",
   "metadata": {},
   "source": [
    "Fibonocci 01.a"
   ]
  },
  {
   "cell_type": "code",
   "execution_count": 5,
   "metadata": {},
   "outputs": [
    {
     "name": "stdout",
     "output_type": "stream",
     "text": [
      "9227465\n"
     ]
    }
   ],
   "source": [
    "# basic fibonacci function\n",
    "from sys import argv\n",
    "count = 35\n",
    "# compute the x-th Fibonnacci number\n",
    "def fib(x):\n",
    "    assert (x >= 0) # check for a bad input\n",
    "    if x == 0:\n",
    "        return 0\n",
    "    elif x == 1:\n",
    "        return 1\n",
    "    return fib(x-1)+fib(x-2)\n",
    "\n",
    "print(fib(count))"
   ]
  },
  {
   "cell_type": "markdown",
   "metadata": {},
   "source": [
    "Fibonocci 01.b"
   ]
  },
  {
   "cell_type": "code",
   "execution_count": 6,
   "metadata": {},
   "outputs": [
    {
     "name": "stdout",
     "output_type": "stream",
     "text": [
      "9227465\n"
     ]
    }
   ],
   "source": [
    "# basic fibonacci function\n",
    "from sys import argv\n",
    "count = 35\n",
    "\n",
    "def fib_help(x):\n",
    "    if x == 1:\n",
    "        return 1, 0\n",
    "    fib_minus_1, fib_minus_2 = fib_help(x-1)\n",
    "    return fib_minus_1+fib_minus_2, fib_minus_1\n",
    "\n",
    "def fib1(x):\n",
    "    assert (x >= 0)\n",
    "    if x == 0:\n",
    "        return 0\n",
    "    elif x == 1:\n",
    "        return 1\n",
    "    fib_minus_1, fib_minus_2 = fib_help(x-1)\n",
    "    return fib_minus_1+fib_minus_2\n",
    "\n",
    "print(fib1(count))"
   ]
  },
  {
   "cell_type": "markdown",
   "metadata": {},
   "source": [
    "Fibonocci 03 (Iterative)"
   ]
  },
  {
   "cell_type": "code",
   "execution_count": 7,
   "metadata": {},
   "outputs": [
    {
     "name": "stdout",
     "output_type": "stream",
     "text": [
      "fib % 2 is 1\n"
     ]
    }
   ],
   "source": [
    "# basic fibonacci function\n",
    "from sys import argv\n",
    "count = 35\n",
    "\n",
    "\n",
    "# compute the x-th Fibonnacci number\n",
    "def fib_iter(x):\n",
    "    assert (x >= 0)  # check for a bad input\n",
    "    if x == 0:\n",
    "        return 0\n",
    "    elif x == 1:\n",
    "        return 1\n",
    "\n",
    "    fib_minus_1 = 1\n",
    "    fib_minus_2 = 0\n",
    "\n",
    "    for i in range(2, x):\n",
    "        temp = fib_minus_1\n",
    "        fib_minus_1 = fib_minus_1 + fib_minus_2\n",
    "        fib_minus_2 = temp\n",
    "\n",
    "    return fib_minus_1+fib_minus_2\n",
    "\n",
    "\n",
    "retval = fib_iter(count)\n",
    "print(f\"fib % 2 is {retval % 2}\")"
   ]
  },
  {
   "cell_type": "markdown",
   "metadata": {},
   "source": [
    "Fibonocci 04 (Matrix)"
   ]
  },
  {
   "cell_type": "code",
   "execution_count": 9,
   "metadata": {},
   "outputs": [
    {
     "name": "stdout",
     "output_type": "stream",
     "text": [
      "fib % 2 is 1\n"
     ]
    }
   ],
   "source": [
    "# give count as argument\n",
    "from sys import argv\n",
    "count = 35\n",
    "# multiply two 2x2 matrices\n",
    "def mult2by2(x, y):\n",
    "    assert (len(x) == 2)\n",
    "    assert (len(y) == 2)\n",
    "    assert (len(x[0]) == 2)\n",
    "    assert (len(y[0]) == 2)\n",
    "    assert (len(x[1]) == 2)\n",
    "    assert (len(y[1]) == 2)\n",
    "\n",
    "    result = [[0, 0], [0, 0]] # easier syntax than appending\n",
    "    result[0][0] = (x[0][0] * y[0][0]) + (x[0][1] * y[1][0])\n",
    "    result[0][1] = (x[0][0] * y[0][1]) + (x[0][1] * y[1][1])\n",
    "    result[1][0] = (x[1][0] * y[0][0]) + (x[1][1] * y[1][0])\n",
    "    result[1][1] = (x[1][0] * y[0][1]) + (x[1][1] * y[1][1])\n",
    "\n",
    "    return result\n",
    "\n",
    "def odd(n):\n",
    "    if (n % 2) == 1:\n",
    "        return True\n",
    "    return False\n",
    "\n",
    "def m_exp(m, n):\n",
    "    assert (n >= 1)\n",
    "    if (odd(n)):\n",
    "        if (n == 1):\n",
    "            return m\n",
    "        return mult2by2(m_exp(m, n-1), m)\n",
    "    m_half = m_exp(m, n/2)\n",
    "    return mult2by2(m_half, m_half)\n",
    "\n",
    "def fib(n):\n",
    "    assert (n >= 0)\n",
    "    m = [[1, 1], [1, 0]]\n",
    "    m = m_exp(m, n)\n",
    "    return m[0][1]\n",
    "\n",
    "retval = fib(count)\n",
    "print(f\"fib % 2 is {retval % 2}\")\n"
   ]
  }
 ],
 "metadata": {
  "kernelspec": {
   "display_name": "Python 3",
   "language": "python",
   "name": "python3"
  },
  "language_info": {
   "codemirror_mode": {
    "name": "ipython",
    "version": 3
   },
   "file_extension": ".py",
   "mimetype": "text/x-python",
   "name": "python",
   "nbconvert_exporter": "python",
   "pygments_lexer": "ipython3",
   "version": "3.9.6"
  }
 },
 "nbformat": 4,
 "nbformat_minor": 2
}
