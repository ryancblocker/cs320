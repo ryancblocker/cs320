{
 "cells": [
  {
   "cell_type": "markdown",
   "metadata": {},
   "source": [
    "# Analysis of Algorithms (1/19/24)\n",
    "\n",
    "## Syllabus Overview\n",
    "\n",
    "- Use Python Version 3.9\n",
    "  - Following PEP 8 Python programming stule practices\n",
    "- When testing assignments they will give us the types of tests on the assignments but not excatly what the test is.\n",
    "\n",
    "Collaboration is GOOD but sharing CODE is BAD. So only sharing concepts and offering and overview of help is you rbread and butter.\n",
    "\n",
    "Anything you turn in must be 100% mine\n",
    "\n",
    "JUST DONT CHEAT GET HELP EARLY!\n",
    "\n",
    "## Algorithms and Data Structures\n",
    "\n",
    "algorithm ~ is a step-by-step procedure for performing some task in a finite amount of time.\n",
    "\n",
    "algorithm = input > algorithm > output\n",
    "\n",
    "data structure ~ is a systematic way of organizing and accessing data.\n",
    "\n",
    "the RUNNING TIME of an algorithm normally GROWS with the INPUT SIZE\n",
    "\n",
    "When looking at an algorithm we typically look at the worst case scenerio for its running time\n",
    "\n",
    "When making an algorithm normally you run experiemnts with varying input sizes to test the algorithm at different points and test its running time\n",
    "\n",
    "In order to compare two algorithms together you must run both of them with the same hardware and software environment\n",
    "\n",
    "## Theoretical Analysis\n",
    "\n",
    "High-level overview of the algorthm described in mathmatical terms\n",
    "\n",
    "Typically the running time is a function of the input size (n). This is so the function can take all possible inputs int account\n",
    "\n",
    "## Pseudo Code\n",
    "\n",
    "Still a way to show an algortihm at a high-level but is more structured like code but instead of actual code you use plain english to describe the code's function. \n",
    "\n",
    "It is normally less detailed than the actualy program itself\n",
    "\n",
    "Pseudo Code Syntax:\n",
    "- Control Flow (if, then, else, while, do, repeat, until, for)\n",
    "- Method Declaration (method(arguments), input, output)\n",
    "- Method Call (method(arguments))\n",
    "- Return Value (return(expression))\n",
    "- Expressions (<- assignment, = equality, n^2 mathmatical formatting)\n",
    "\n",
    "## RAM Model\n",
    "\n",
    "Consists of...\n",
    "- A CPU\n",
    "- Numerous amount of memory cells each which hold a arbitrary number\n",
    "- the memory cells are numbered and accessing eah cell takes a unit of time\n",
    "\n",
    "## Algorithms Important Functions\n",
    "\n",
    "- Constant = 1\n",
    "- Logarithmic = log n\n",
    "- Linear = n\n",
    "- N-Log-N = n log n (sorting)\n",
    "- Quadratic = n^2\n",
    "- Cubic = n^3\n",
    "- Exponential = 2^n\n",
    "\n",
    "## Counting Primitive Operations\n",
    "\n",
    "Determining the maximum amount of primitive operations in an algorithm as a function of the input size\n",
    "\n",
    "//add code here from slides\n",
    "\n",
    "Answer: O(n)\n",
    "\n",
    "When finding the Big Oh we always throw out the constants and the lower power of n and go with the highest\n",
    "\n",
    "3n^3 + 20n^2 + 5 = O(n^3)\n",
    "\n",
    "3log n + 5 = O(log n)\n",
    "\n",
    "## Big Oh Rules\n",
    "\n",
    "- Drop Low Order Terms\n",
    "- Drop Constant Factors\n",
    "- Use the smallest possible class of funxtions\n",
    "- Use the simplest expression of the class\n",
    "\n",
    "## Asymtototic Algorithm Analysis\n",
    "\n",
    "aysmtotic analysis ~ finding the running time of an algorithm in Big-Oh notation"
   ]
  },
  {
   "cell_type": "code",
   "execution_count": 2,
   "metadata": {},
   "outputs": [
    {
     "name": "stdout",
     "output_type": "stream",
     "text": [
      "a = [-1, -3, 4, -1, 5, -2, 1, 2, -3] len(a) = 9\n",
      "Max sum is 9\n"
     ]
    }
   ],
   "source": [
    "# return maximum sum of any substring of A\n",
    "#\n",
    "# make sure you agree it computes all possible lengths...\n",
    "\n",
    "MIN = -1000000000\n",
    "def maxsubslow(A):\n",
    "    max = A[0]\n",
    "    n = len(A)\n",
    "    for j in range(0, n):\n",
    "        for k in range(j+1, n):\n",
    "            s = 0\n",
    "            for m in range(j, k):\n",
    "                s = s + A[m]\n",
    "            if (s > max):\n",
    "                max = s\n",
    "    return max\n",
    "\n",
    "a = [-1, -3, 4, -1, 5, -2, 1, 2, -3]\n",
    "\n",
    "print(f\"a = {a} len(a) = {len(a)}\")\n",
    "print(f\"Max sum is {maxsubslow(a)}\")\n"
   ]
  },
  {
   "cell_type": "markdown",
   "metadata": {},
   "source": [
    "A more efficient way to calculate this would be to consider the prefix sums"
   ]
  },
  {
   "cell_type": "code",
   "execution_count": 6,
   "metadata": {},
   "outputs": [
    {
     "name": "stdout",
     "output_type": "stream",
     "text": [
      "a = [-1, -3, 4, -1, 5, -2, 1, 2, -3]\n",
      "Max sum is 9\n"
     ]
    }
   ],
   "source": [
    "def maxsubfaster(A):\n",
    "    n = len(A)\n",
    "\n",
    "    S = [A[0]]\n",
    "    for i in range(1, n):\n",
    "        S.append(S[i-1]+A[i])\n",
    "    m = A[0]\n",
    "    for j in range(1, n):\n",
    "        for k in range(0, n):\n",
    "            if (k == 0):\n",
    "                s = S[k]\n",
    "            else:\n",
    "                s = S[k] - S[j-1]\n",
    "            if (s > m):\n",
    "                m = s\n",
    "    return m\n",
    "\n",
    "a = [-1, -3, 4, -1, 5, -2, 1, 2, -3]\n",
    "print(f\"a = {a}\")\n",
    "print(f\"Max sum is {maxsubfaster(a)}\")"
   ]
  },
  {
   "cell_type": "markdown",
   "metadata": {},
   "source": [
    "Do do the code above we had to do whats called a space-time trade-off we made the problem smaller and faster but use more memory. We went from O(n^3) to O(n^2) + 100,000 units of memory"
   ]
  },
  {
   "cell_type": "markdown",
   "metadata": {},
   "source": [
    "Here is a linear solution to this problem"
   ]
  },
  {
   "cell_type": "code",
   "execution_count": 4,
   "metadata": {},
   "outputs": [
    {
     "name": "stdout",
     "output_type": "stream",
     "text": [
      "a = [-1, -3, 4, -1, 5, -2, 1, 2, -3]\n",
      "Max sum is 9\n"
     ]
    }
   ],
   "source": [
    "# Kaldane's algorithm for max subarray\n",
    "#\n",
    "# key insight is that whenever the running sum goes negative, reset it\n",
    "# as any following substring (negative or positive) will be greater if\n",
    "# it doesn't incorporate the negative prior sum\n",
    "def maxsubkaldane(A):\n",
    "    size = len(A)\n",
    "    assert (size > 0)\n",
    "\n",
    "    max_so_far = A[0]\n",
    "    if (A[0] > 0):\n",
    "        max_ending_here = max_so_far\n",
    "    else:\n",
    "        max_ending_here = 0\n",
    "    for i in range(1, size):\n",
    "        max_ending_here = max_ending_here + A[i]\n",
    "        if (max_so_far < max_ending_here):\n",
    "            max_so_far = max_ending_here\n",
    "        if max_ending_here < 0:\n",
    "            max_ending_here = 0\n",
    "    return max_so_far\n",
    "\n",
    "a = [-1, -3, 4, -1, 5, -2, 1, 2, -3]\n",
    "print(f\"a = {a}\")\n",
    "print(f\"Max sum is {maxsubkaldane(a)}\")\n"
   ]
  }
 ],
 "metadata": {
  "kernelspec": {
   "display_name": "Python 3",
   "language": "python",
   "name": "python3"
  },
  "language_info": {
   "codemirror_mode": {
    "name": "ipython",
    "version": 3
   },
   "file_extension": ".py",
   "mimetype": "text/x-python",
   "name": "python",
   "nbconvert_exporter": "python",
   "pygments_lexer": "ipython3",
   "version": "3.9.6"
  }
 },
 "nbformat": 4,
 "nbformat_minor": 2
}
