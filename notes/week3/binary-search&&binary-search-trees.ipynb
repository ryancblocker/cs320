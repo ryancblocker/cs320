{
 "cells": [
  {
   "cell_type": "markdown",
   "metadata": {},
   "source": [
    "# Binary Search & Binary Search Trees (1/29/24)\n",
    "\n",
    "## Binary Space Partitioning\n",
    "\n",
    "- It things it is sometimes useful to be able to locate things relative to other objects in the environments\n",
    "- One way to do this is binary space partitioning\n",
    "  - To do this we need a plane P that divides a set of objects into two groups (left of P and right of P)\n",
    "  - The for each group we recusivily subdivide theam with planes until the number of elements is small enough to handle individually\n",
    "\n",
    "## Binary Search\n",
    "\n",
    "- Can perform nearest neighbor quieries on an ordered map that is in an array\n",
    "  - The array is sorted by key\n",
    "  - at each step the number of candidate items is halved\n",
    "  - it terminates after O(log n) steps\n",
    "\n",
    "Process:\n",
    "  1. You start with the middle value (example find 7 in 0-19 start with 8)\n",
    "  2. Check the value against what you are trying to find if its higher or lower throw out halve of the value of the side you dont need to search (throw away 8-17)\n",
    "  3. Then pick the other middle (now 3 and check that it is lower than 7 and throw out 0-3)\n",
    "  4. ... Keep going ...\n",
    "  5. Unitl you find the right number 7\n",
    "\n"
   ]
  },
  {
   "cell_type": "code",
   "execution_count": null,
   "metadata": {},
   "outputs": [],
   "source": []
  }
 ],
 "metadata": {
  "language_info": {
   "name": "python"
  }
 },
 "nbformat": 4,
 "nbformat_minor": 2
}
