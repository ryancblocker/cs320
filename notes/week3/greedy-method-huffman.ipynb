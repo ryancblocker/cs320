{
 "cells": [
  {
   "cell_type": "markdown",
   "metadata": {},
   "source": [
    "# Greedy Method & Huffman (2/2/24)\n",
    "\n",
    "## Greedy Method\n",
    "\n",
    "Is a gerneral algorithm built on the following elements\n",
    "\n",
    "- Configuration: Different choices, collections, values to find\n",
    "- Objective Function: a score assigned to configurations which we want to maximize or minimize\n",
    "\n",
    "A sequence of choices stars\n",
    "\n",
    "## Knapsack problem\n",
    "\n",
    "## Huffman Encoding (Compression)\n",
    "\n",
    "Uses the greedy method\n",
    "\n",
    "It goes thorugh the files you are trying to compress in 8-bit chunks or octets. \n",
    "\n",
    "The most frequent 8bit values are converted to 2-bit values\n",
    "\n",
    "It has to use an optimal encoding tree to do this\n",
    "\n",
    "### Encoding example\n",
    "\n",
    "A code is a mapping of each octet\n",
    "\n",
    "A prefix code is a binary code such that no code-word is the prefix of another code word\n",
    "\n",
    "An encoding tree represents the prefix-code\n",
    "\n",
    "#### Optimization\n",
    "\n"
   ]
  }
 ],
 "metadata": {
  "language_info": {
   "name": "python"
  }
 },
 "nbformat": 4,
 "nbformat_minor": 2
}
