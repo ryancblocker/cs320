{
 "cells": [
  {
   "cell_type": "markdown",
   "metadata": {},
   "source": [
    "# Basic Data Types (1/22/24)\n",
    "\n",
    "## Lists\n",
    "\n",
    "- Pythons list is not a list in the classic sense\n",
    "  - a classic list i screated out of a block of contiguous memory and to gorw the list have to get a new bigger chunk of memory then copy it over\n",
    "\n",
    "- List as a chunk of memory:"
   ]
  },
  {
   "cell_type": "code",
   "execution_count": null,
   "metadata": {},
   "outputs": [],
   "source": [
    "def growarray(L,e):\n",
    "    l_len = len(L)\n",
    "    new_L = [0] * (l_len+1)\n",
    "    for i in range(0,l_len):\n",
    "        new_L[i] = L[i]\n",
    "    new_L[l_len] = e\n",
    "    return(new_L)"
   ]
  },
  {
   "cell_type": "markdown",
   "metadata": {},
   "source": [
    "This code above is O(n) to grow the array but you really shoul dbe doing O(1) in Python\n",
    "\n",
    "## Index-Based Lists\n",
    "\n",
    "- get(r): return element at index r\n",
    "- set(r,e): replace e with the element at index r currently\n",
    "- add(r,e): insert a new element eand its index will be r\n",
    "\n",
    "        - when using the add(i,o) operation we need to make room for the new element by shifting foward the n-i elements A[i],...,A[n-1]\n",
    "        - Worst case (i=0), this takes O(n) time\n",
    "\n",
    "- remove(r): remove an element at index r\n",
    "\n",
    "        - in the remove operation we need to fill the hole left by the removed element\n",
    "        - We need to shift backward the n-i-1 elemtns A[i+1],...,A[n-1]\n",
    "        - Worst case (i=0), this takes O(n) time\n",
    "\n",
    "## Array-Based Lists\n",
    "\n",
    "- the space used by the data structure is O(n)\n",
    "- indexing into the array takes O(1) time\n",
    "\n",
    "## How we delete in Python"
   ]
  },
  {
   "cell_type": "code",
   "execution_count": null,
   "metadata": {},
   "outputs": [],
   "source": [
    "# removing 3rd element in list L\n",
    "del L[3]"
   ]
  },
  {
   "cell_type": "markdown",
   "metadata": {},
   "source": [
    "It turns out that this is either O(n) or O(1) depending on how it is implemented above\n",
    "\n",
    "## Linked Lists\n",
    "\n",
    "- store elements as nodes or positions\n",
    "- linked lists methods:\n",
    "  - first(): returns the first element\n",
    "  - last(): returns the last elememt\n",
    "  - before(p): returns the position of L immediatly before position p\n",
    "  - after(p): returns the position of L immediatly after position p\n",
    "  - isEmptyp(): returns true/false if L is empty or not\n",
    "  - size(): returns the number of elements in L\n",
    "  - insertBefore(p,e): insert a new element e before position p\n",
    "  - insertAfter(p,e): insert a new element e after position p\n",
    "  - remove(p): remove element at position p\n",
    "\n",
    "- The easist way to implement a positional list is with a doubly-linked list\n",
    "\n",
    "### Pointers\n",
    "\n",
    "- is a variable that holds the position of a place in memory\n",
    "- Example\n",
    "  - var X contains the value of 3 which is interpreted as pointing at location 3 in memory\n",
    "  - X is 3 and if we dereference X or follow its pointer then we see that *X is AB\n",
    "- This system allos for many wonderful inter-linked data structures\n",
    "\n",
    "- A linked list can perform all of its accessor methods and update operations with a time of O(1)\n",
    "\n",
    "## Stacks and Queues\n",
    "\n",
    "Algorithm push(o):\n",
    "    if t + 1 = N then \n",
    "        return that a stack-full error has occurred\n",
    "    t <- t+1\n",
    "    S[t] - 0\n",
    "    return \n",
    "\n",
    "Algorithm pop():\n",
    "    if < 0 then\n",
    "        return that a stack-empty error has occurred\n",
    "    c <- S[t]\n",
    "    S[t] <- null\n",
    "    t <— t - 1\n",
    "    return e"
   ]
  }
 ],
 "metadata": {
  "kernelspec": {
   "display_name": "Python 3",
   "language": "python",
   "name": "python3"
  },
  "language_info": {
   "codemirror_mode": {
    "name": "ipython",
    "version": 3
   },
   "file_extension": ".py",
   "mimetype": "text/x-python",
   "name": "python",
   "nbconvert_exporter": "python",
   "pygments_lexer": "ipython3",
   "version": "3.9.6"
  }
 },
 "nbformat": 4,
 "nbformat_minor": 2
}
