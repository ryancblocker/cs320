{
 "cells": [
  {
   "cell_type": "markdown",
   "metadata": {},
   "source": [
    "# Stacks and Queues\n",
    "\n",
    "## Lists with Limited Access\n",
    "\n",
    "- a stack is bascially a list with limited access rules - they can only be accessed on their ends\n",
    "\n",
    "- they allow for faster reading and access times depeding on the case\n",
    "\n",
    "## Stack\n",
    "\n",
    "- LIFO (last-in-first-out)\n",
    "- Main stack operations:\n",
    "    - push(): add element to the top of stack\n",
    "    - pop(): removes element from top of stack\n",
    "    - top(): returns last inserted element without removing it\n",
    "    - size(): returns how many elements in the stack\n",
    "    - isEmpty(): T/F are there elements in the stack?\n",
    "- Recusion is actually a form of a stack it is just hidden in memory\n",
    "\n",
    "### Method Stacks\n",
    "\n",
    "- When a program is called it adds main, method1, ..., methodn to that stack. When the method starts it is added to the stack and is popped from the stack when the method ends"
   ]
  },
  {
   "cell_type": "code",
   "execution_count": null,
   "metadata": {
    "vscode": {
     "languageId": "plaintext"
    }
   },
   "outputs": [],
   "source": [
    "#add stack code here (polish_postfix)"
   ]
  },
  {
   "cell_type": "markdown",
   "metadata": {},
   "source": [
    "### Performance of the Stack\n",
    "\n",
    "- The space used by the stack is essentially O(n)\n",
    "- Each operation on the stack is O(1)\n",
    "- When pushing an element on a full stack three things could happen. You could get an error, you could drop of an element of the end of the stack to add the new element, or you could just expand the stack. Everytime though the Big Oh is O(1)\n",
    "\n",
    "### Application or Example: Buffered Output\n",
    "\n",
    "- The internet ships data through the net using packets\n",
    "- When sending a video in the form of packets to a destination it is easy for these packets to get out of order. So we need a way to smooth out these variations\n",
    "- This smoothing out is achieved by using a buffer. This is the producer-consumer model which is enforcing a FIFO (first-in-first-out)\n",
    "- This data structure is also known as a queue\n",
    "\n",
    "## Queues\n",
    "\n",
    "- follows the FIFO model (first-in-first-out)\n",
    "- Main operations:\n",
    "  - enqueue(): inserts element at the end of the queue\n",
    "  - dequeue(): removes element at the front of the queue\n",
    "  - first(): returns the element at the front without removing it\n",
    "  - size(): returns the amount of elements in the structure\n",
    "  - isEmpty(): T/F are their elements in the queue?\n",
    "- Example: Round Robin Schedulers\n",
    "\n",
    "### Types of Queues\n",
    "\n",
    "- FIFO: First-In, First-Out\n",
    "  - O(1) add or remove\n",
    "- LIFO: Last-In, Last-Out (aka a Stack!)\n",
    "  - O(1) add or remove\n",
    "- Priority Queue\n",
    "  - requires sorting upon insertion so O(log n)\n",
    "\n",
    "### Implementing Queues in Python\n",
    "\n",
    "- Simple list\n",
    "- Library from collections.deque\n",
    "  - Doubly ended queue. Allows appending at either end and pop at either end\n",
    "- Library from queue.Queue\n",
    "  - designed for threading and not something we will use right now\n"
   ]
  }
 ],
 "metadata": {
  "language_info": {
   "name": "python"
  }
 },
 "nbformat": 4,
 "nbformat_minor": 2
}
