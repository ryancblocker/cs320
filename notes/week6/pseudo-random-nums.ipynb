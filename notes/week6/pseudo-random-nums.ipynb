{
 "cells": [
  {
   "cell_type": "markdown",
   "metadata": {},
   "source": [
    "# Pseudo Random Numbers (2/19/24)\n",
    "\n",
    "## Peudo Random Numbers are not truly random numbers\n",
    "\n",
    "## Monte Carlo Algorithm\n",
    "\n",
    "* an algorithm is a prbablistic test or computation that you perform n times after it returns a result. the result is correct with some probability or tolerance that depends on n\n",
    "\n",
    "* monte carlo algorithm is no good if the numbers they use are not good\n",
    "\n"
   ]
  }
 ],
 "metadata": {
  "language_info": {
   "name": "python"
  }
 },
 "nbformat": 4,
 "nbformat_minor": 2
}
