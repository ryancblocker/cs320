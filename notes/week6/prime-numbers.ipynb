{
 "cells": [
  {
   "cell_type": "markdown",
   "metadata": {},
   "source": [
    "# Finding Prime Numbers (2/21/24)\n",
    "\n",
    "Prime numbers are used in pseudo random number generation and hashing and all over computer science\n",
    "\n",
    "## Finding Primes is difficult\n",
    "\n",
    "Prime Number is only divisible by 1 and itself\n",
    "\n",
    "## RSA Encryption\n",
    "\n",
    "Prime numbers are vital for RSA Encryption\n",
    "\n",
    "How it works:\n",
    "    - A key to **lock** (encrypt) which is **public**\n",
    "    - A key to **unlock** (decrypt) which is **private**\n",
    "  - The goal is to find 3 larg integars e, d, and n 0 <= m < n, (m^e)^d = m % n\n",
    "\n",
    "## So how do we find these prime numbers\n",
    "\n",
    "- The rabin Miller Primality Test (helps you find primes fast but with a tiny chance that they are not)\n"
   ]
  }
 ],
 "metadata": {
  "language_info": {
   "name": "python"
  }
 },
 "nbformat": 4,
 "nbformat_minor": 2
}
