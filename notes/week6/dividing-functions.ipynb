{
 "cells": [
  {
   "cell_type": "markdown",
   "metadata": {},
   "source": [
    "# Dividing Python Code into Python Functions (2/19/24)\n",
    "\n",
    "## Rule 1: Code that is repeated make into a function\n",
    "## Rule 2: Your functions should be less than 30 lines long\n",
    "## Rule 3: There should be less than three levels of conditional statements\n"
   ]
  }
 ],
 "metadata": {
  "language_info": {
   "name": "python"
  }
 },
 "nbformat": 4,
 "nbformat_minor": 2
}
